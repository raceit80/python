{
 "cells": [
  {
   "cell_type": "code",
   "execution_count": 1,
   "metadata": {},
   "outputs": [
    {
     "name": "stdout",
     "output_type": "stream",
     "text": [
      "COM B rit2011020 Samantha\n",
      "DSA A rit2011001 Julia\n",
      "ENG C rit2011020 Samantha\n",
      "SCI B rit2011001 Julia\n"
     ]
    }
   ],
   "source": [
    "import json\n",
    "\n",
    "def process_results(content):\n",
    "    my_result_list = []\n",
    "    for i in content[\"report\"]:\n",
    "        for j in i[\"subject\"]:\n",
    "            if j[\"grade\"] != 'F':\n",
    "                my_result_list.append(str(j[\"code\"]) +  \" \" + str(j[\"grade\"]) + \" \" + str(i[\"enrollment\"]) + \" \" + str(i[\"name\"]))\n",
    "    return my_result_list\n",
    "\n",
    "\n",
    "def sort_n_print_results(results):\n",
    "    #Quicksort or Mergesort is optimal (Big O = nlogn) , however since the number of items is less than 10, implementing insertion sort (Big O = n*n)\n",
    "    for i in range(len(results)):\n",
    "        for j in range(i, len(results)):\n",
    "            key = results[i]\n",
    "            if results[j] < key:\n",
    "                results[i],results[j] = results[j], key\n",
    "    for item in results:\n",
    "        print (item)\n",
    "\n",
    "def main():\n",
    "    f = open(\"report.json\", \"r\")\n",
    "    if f.mode == 'r':\n",
    "        content = f.read()\n",
    "        theJSONcontent = json.loads(content)\n",
    "        results = process_results(theJSONcontent)\n",
    "        sort_n_print_results(results)\n",
    "    else:\n",
    "        print(\"JSON file cannot be opened\")\n",
    "\n",
    "    \n",
    "if __name__ == \"__main__\":\n",
    "    main()"
   ]
  },
  {
   "cell_type": "code",
   "execution_count": null,
   "metadata": {},
   "outputs": [],
   "source": []
  },
  {
   "cell_type": "code",
   "execution_count": null,
   "metadata": {},
   "outputs": [],
   "source": []
  },
  {
   "cell_type": "code",
   "execution_count": null,
   "metadata": {},
   "outputs": [],
   "source": []
  }
 ],
 "metadata": {
  "kernelspec": {
   "display_name": "Python 3",
   "language": "python",
   "name": "python3"
  },
  "language_info": {
   "codemirror_mode": {
    "name": "ipython",
    "version": 3
   },
   "file_extension": ".py",
   "mimetype": "text/x-python",
   "name": "python",
   "nbconvert_exporter": "python",
   "pygments_lexer": "ipython3",
   "version": "3.7.6"
  }
 },
 "nbformat": 4,
 "nbformat_minor": 4
}
