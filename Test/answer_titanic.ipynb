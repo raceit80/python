{
 "cells": [
  {
   "cell_type": "code",
   "execution_count": 10,
   "metadata": {},
   "outputs": [
    {
     "name": "stdout",
     "output_type": "stream",
     "text": [
      "0.5844155844155844\n",
      "0.18681318681318682\n",
      "0.15878378378378377\n",
      "30.333333333333332\n",
      "11.666666666666666\n",
      "1.0\n"
     ]
    }
   ],
   "source": [
    "import pandas as pd\n",
    "df = pd.read_csv('titanic.csv')\n",
    "df.head()\n",
    "\n",
    "\n",
    "def odds_of_survival(sex, p_class):\n",
    "    #create dataframe by given sex\n",
    "    sex_df = df[df.Sex==sex]\n",
    "    #create dataframe: filter on given p_class for given sex\n",
    "    p_class_by_sex_df = sex_df[sex_df.Pclass==p_class]\n",
    "    #create dataframe: survived \n",
    "    p_class_by_sex_df.head()\n",
    "    #calculate the odds of survival for the given sex and p_class\n",
    "    odds_of_survival = (p_class_by_sex_df.Survived.value_counts()[1]) / (p_class_by_sex_df.Survived.value_counts()[0])\n",
    "    return odds_of_survival\n",
    "\n",
    "\n",
    "def main():\n",
    "    print(odds_of_survival('male', 1))\n",
    "    print(odds_of_survival('male', 2))\n",
    "    print(odds_of_survival('male', 3))\n",
    "    print(odds_of_survival('female', 1))\n",
    "    print(odds_of_survival('female', 2))\n",
    "    print(odds_of_survival('female', 3))\n",
    "\n",
    "if __name__ == \"__main__\":\n",
    "    main()"
   ]
  },
  {
   "cell_type": "code",
   "execution_count": null,
   "metadata": {},
   "outputs": [],
   "source": []
  },
  {
   "cell_type": "code",
   "execution_count": 5,
   "metadata": {},
   "outputs": [],
   "source": [
    "\n",
    "    "
   ]
  },
  {
   "cell_type": "code",
   "execution_count": null,
   "metadata": {},
   "outputs": [],
   "source": []
  },
  {
   "cell_type": "code",
   "execution_count": null,
   "metadata": {},
   "outputs": [],
   "source": []
  },
  {
   "cell_type": "code",
   "execution_count": null,
   "metadata": {},
   "outputs": [],
   "source": []
  },
  {
   "cell_type": "code",
   "execution_count": null,
   "metadata": {},
   "outputs": [],
   "source": []
  },
  {
   "cell_type": "code",
   "execution_count": null,
   "metadata": {},
   "outputs": [],
   "source": []
  },
  {
   "cell_type": "code",
   "execution_count": null,
   "metadata": {},
   "outputs": [],
   "source": []
  },
  {
   "cell_type": "code",
   "execution_count": null,
   "metadata": {},
   "outputs": [],
   "source": []
  },
  {
   "cell_type": "code",
   "execution_count": null,
   "metadata": {},
   "outputs": [],
   "source": []
  },
  {
   "cell_type": "code",
   "execution_count": null,
   "metadata": {},
   "outputs": [],
   "source": []
  },
  {
   "cell_type": "code",
   "execution_count": null,
   "metadata": {},
   "outputs": [],
   "source": []
  },
  {
   "cell_type": "code",
   "execution_count": null,
   "metadata": {},
   "outputs": [],
   "source": []
  }
 ],
 "metadata": {
  "kernelspec": {
   "display_name": "Python 3",
   "language": "python",
   "name": "python3"
  },
  "language_info": {
   "codemirror_mode": {
    "name": "ipython",
    "version": 3
   },
   "file_extension": ".py",
   "mimetype": "text/x-python",
   "name": "python",
   "nbconvert_exporter": "python",
   "pygments_lexer": "ipython3",
   "version": "3.7.6"
  }
 },
 "nbformat": 4,
 "nbformat_minor": 4
}
