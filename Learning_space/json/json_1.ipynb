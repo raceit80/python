{
 "cells": [
  {
   "cell_type": "code",
   "execution_count": 30,
   "metadata": {},
   "outputs": [
    {
     "name": "stdout",
     "output_type": "stream",
     "text": [
      "result code: 200\n"
     ]
    },
    {
     "ename": "TypeError",
     "evalue": "float() argument must be a string or a number, not 'NoneType'",
     "output_type": "error",
     "traceback": [
      "\u001b[0;31m---------------------------------------------------------------------------\u001b[0m",
      "\u001b[0;31mTypeError\u001b[0m                                 Traceback (most recent call last)",
      "\u001b[0;32m<ipython-input-30-ab7461cfa696>\u001b[0m in \u001b[0;36m<module>\u001b[0;34m\u001b[0m\n\u001b[1;32m     33\u001b[0m \u001b[0;34m\u001b[0m\u001b[0m\n\u001b[1;32m     34\u001b[0m \u001b[0;32mif\u001b[0m \u001b[0m__name__\u001b[0m \u001b[0;34m==\u001b[0m \u001b[0;34m\"__main__\"\u001b[0m\u001b[0;34m:\u001b[0m\u001b[0;34m\u001b[0m\u001b[0;34m\u001b[0m\u001b[0m\n\u001b[0;32m---> 35\u001b[0;31m     \u001b[0mmain\u001b[0m\u001b[0;34m(\u001b[0m\u001b[0;34m)\u001b[0m\u001b[0;34m\u001b[0m\u001b[0;34m\u001b[0m\u001b[0m\n\u001b[0m\u001b[1;32m     36\u001b[0m \u001b[0;34m\u001b[0m\u001b[0m\n\u001b[1;32m     37\u001b[0m \u001b[0;31m# \"type\":\"FeatureCollection\",\"metadata\":{\"generated\":1595386096000,\"url\":\"https://earthquake.usgs.gov/earthquakes/feed/v1.0/summary/all_month.geojson\",\"title\":\"USGS All Earthquakes, Past Month\",\"status\":200,\"api\":\"1.10.3\",\"count\":15335},\"features\":[{\"type\":\"Feature\",\"properties\":{\"mag\":1.2,\"place\":\"40 km SE of Mina, Nevada\",\"time\":1595384434050,\"updated\":1595385385434,\"tz\":null,\"url\":\"https://earthquake.usgs.gov/earthquakes/eventpage/nn00761996\",\"detail\":\"https://earthquake.usgs.gov/earthquakes/feed/v1.0/detail/nn00761996.geojson\",\"felt\":null,\"cdi\":null,\"mmi\":null,\"alert\":null,\"status\":\"automatic\",\"tsunami\":0,\"sig\":22,\"net\":\"nn\",\"code\":\"00761996\",\"ids\":\",nn00761996,\",\"sources\":\",nn,\",\"types\":\",origin,phase-data,\",\"nst\":9,\"dmin\":0.058,\"rms\":0.01,\"gap\":217.64,\"magType\":\"ml\",\"type\":\"earthquake\",\"title\":\"M 1.2 - 40 km SE of Mina, Nevada\"},\"geometry\":{\"type\":\"Point\",\"coordinates\":[-117.7477,38.1663,8.5]},\"id\":\"nn00761996\"},\u001b[0m\u001b[0;34m\u001b[0m\u001b[0;34m\u001b[0m\u001b[0;34m\u001b[0m\u001b[0m\n",
      "\u001b[0;32m<ipython-input-30-ab7461cfa696>\u001b[0m in \u001b[0;36mmain\u001b[0;34m()\u001b[0m\n\u001b[1;32m     24\u001b[0m     \u001b[0;32mif\u001b[0m \u001b[0;34m(\u001b[0m\u001b[0mweb_url\u001b[0m\u001b[0;34m.\u001b[0m\u001b[0mgetcode\u001b[0m\u001b[0;34m(\u001b[0m\u001b[0;34m)\u001b[0m \u001b[0;34m==\u001b[0m \u001b[0;36m200\u001b[0m\u001b[0;34m)\u001b[0m\u001b[0;34m:\u001b[0m\u001b[0;34m\u001b[0m\u001b[0;34m\u001b[0m\u001b[0m\n\u001b[1;32m     25\u001b[0m         \u001b[0mdata\u001b[0m \u001b[0;34m=\u001b[0m \u001b[0mweb_url\u001b[0m\u001b[0;34m.\u001b[0m\u001b[0mread\u001b[0m\u001b[0;34m(\u001b[0m\u001b[0;34m)\u001b[0m\u001b[0;34m\u001b[0m\u001b[0;34m\u001b[0m\u001b[0m\n\u001b[0;32m---> 26\u001b[0;31m         \u001b[0mprint_results\u001b[0m\u001b[0;34m(\u001b[0m\u001b[0mdata\u001b[0m\u001b[0;34m)\u001b[0m\u001b[0;34m\u001b[0m\u001b[0;34m\u001b[0m\u001b[0m\n\u001b[0m\u001b[1;32m     27\u001b[0m     \u001b[0;32melse\u001b[0m\u001b[0;34m:\u001b[0m\u001b[0;34m\u001b[0m\u001b[0;34m\u001b[0m\u001b[0m\n\u001b[1;32m     28\u001b[0m         \u001b[0mprint\u001b[0m\u001b[0;34m(\u001b[0m\u001b[0;34m\"Data cannot be retrieved\"\u001b[0m\u001b[0;34m)\u001b[0m\u001b[0;34m\u001b[0m\u001b[0;34m\u001b[0m\u001b[0m\n",
      "\u001b[0;32m<ipython-input-30-ab7461cfa696>\u001b[0m in \u001b[0;36mprint_results\u001b[0;34m(data)\u001b[0m\n\u001b[1;32m     12\u001b[0m \u001b[0;34m\u001b[0m\u001b[0m\n\u001b[1;32m     13\u001b[0m     \u001b[0;32mfor\u001b[0m \u001b[0mi\u001b[0m \u001b[0;32min\u001b[0m \u001b[0mtheJSON\u001b[0m\u001b[0;34m[\u001b[0m\u001b[0;34m\"features\"\u001b[0m\u001b[0;34m]\u001b[0m\u001b[0;34m:\u001b[0m\u001b[0;34m\u001b[0m\u001b[0;34m\u001b[0m\u001b[0m\n\u001b[0;32m---> 14\u001b[0;31m             \u001b[0;32mif\u001b[0m \u001b[0mfloat\u001b[0m\u001b[0;34m(\u001b[0m\u001b[0mi\u001b[0m\u001b[0;34m[\u001b[0m\u001b[0;34m\"properties\"\u001b[0m\u001b[0;34m]\u001b[0m\u001b[0;34m[\u001b[0m\u001b[0;34m\"mag\"\u001b[0m\u001b[0;34m]\u001b[0m\u001b[0;34m)\u001b[0m \u001b[0;34m>\u001b[0m \u001b[0;36m9.0\u001b[0m\u001b[0;34m:\u001b[0m\u001b[0;34m\u001b[0m\u001b[0;34m\u001b[0m\u001b[0m\n\u001b[0m\u001b[1;32m     15\u001b[0m                 \u001b[0mprint\u001b[0m \u001b[0;34m(\u001b[0m\u001b[0mi\u001b[0m\u001b[0;34m[\u001b[0m\u001b[0;34m\"properties\"\u001b[0m\u001b[0;34m]\u001b[0m\u001b[0;34m[\u001b[0m\u001b[0;34m\"place\"\u001b[0m\u001b[0;34m]\u001b[0m\u001b[0;34m)\u001b[0m\u001b[0;34m\u001b[0m\u001b[0;34m\u001b[0m\u001b[0m\n\u001b[1;32m     16\u001b[0m \u001b[0;34m\u001b[0m\u001b[0m\n",
      "\u001b[0;31mTypeError\u001b[0m: float() argument must be a string or a number, not 'NoneType'"
     ]
    }
   ],
   "source": [
    "import urllib.request\n",
    "import json\n",
    "\n",
    "\n",
    "def print_results(data):\n",
    "    theJSON = json.loads(data)\n",
    "    \n",
    "\n",
    "    \n",
    "    count = theJSON[\"metadata\"][\"count\"]\n",
    "    #print (str(count), \" total earthquakes recorded\")\n",
    "    \n",
    "    for i in theJSON[\"features\"]:\n",
    "            if float(i[\"properties\"][\"mag\"]) > 9.0:\n",
    "                print (i[\"properties\"][\"place\"])\n",
    "\n",
    "\n",
    "    \n",
    "\n",
    "def main():\n",
    "    url_data = 'https://earthquake.usgs.gov/earthquakes/feed/v1.0/summary/all_month.geojson'\n",
    "    web_url = urllib.request.urlopen(url_data)\n",
    "    print (\"result code: \" + str(web_url.getcode()))\n",
    "    if (web_url.getcode() == 200):\n",
    "        data = web_url.read()\n",
    "        print_results(data)\n",
    "    else:\n",
    "        print(\"Data cannot be retrieved\")\n",
    "        \n",
    "\n",
    "\n",
    "    \n",
    "    \n",
    "if __name__ == \"__main__\":\n",
    "    main()\n",
    "    \n",
    "# \"type\":\"FeatureCollection\",\"metadata\":{\"generated\":1595386096000,\"url\":\"https://earthquake.usgs.gov/earthquakes/feed/v1.0/summary/all_month.geojson\",\"title\":\"USGS All Earthquakes, Past Month\",\"status\":200,\"api\":\"1.10.3\",\"count\":15335},\"features\":[{\"type\":\"Feature\",\"properties\":{\"mag\":1.2,\"place\":\"40 km SE of Mina, Nevada\",\"time\":1595384434050,\"updated\":1595385385434,\"tz\":null,\"url\":\"https://earthquake.usgs.gov/earthquakes/eventpage/nn00761996\",\"detail\":\"https://earthquake.usgs.gov/earthquakes/feed/v1.0/detail/nn00761996.geojson\",\"felt\":null,\"cdi\":null,\"mmi\":null,\"alert\":null,\"status\":\"automatic\",\"tsunami\":0,\"sig\":22,\"net\":\"nn\",\"code\":\"00761996\",\"ids\":\",nn00761996,\",\"sources\":\",nn,\",\"types\":\",origin,phase-data,\",\"nst\":9,\"dmin\":0.058,\"rms\":0.01,\"gap\":217.64,\"magType\":\"ml\",\"type\":\"earthquake\",\"title\":\"M 1.2 - 40 km SE of Mina, Nevada\"},\"geometry\":{\"type\":\"Point\",\"coordinates\":[-117.7477,38.1663,8.5]},\"id\":\"nn00761996\"},\n"
   ]
  },
  {
   "cell_type": "code",
   "execution_count": null,
   "metadata": {},
   "outputs": [],
   "source": []
  },
  {
   "cell_type": "code",
   "execution_count": null,
   "metadata": {},
   "outputs": [],
   "source": []
  },
  {
   "cell_type": "code",
   "execution_count": null,
   "metadata": {},
   "outputs": [],
   "source": []
  }
 ],
 "metadata": {
  "kernelspec": {
   "display_name": "Python 3",
   "language": "python",
   "name": "python3"
  },
  "language_info": {
   "codemirror_mode": {
    "name": "ipython",
    "version": 3
   },
   "file_extension": ".py",
   "mimetype": "text/x-python",
   "name": "python",
   "nbconvert_exporter": "python",
   "pygments_lexer": "ipython3",
   "version": "3.7.6"
  }
 },
 "nbformat": 4,
 "nbformat_minor": 4
}
