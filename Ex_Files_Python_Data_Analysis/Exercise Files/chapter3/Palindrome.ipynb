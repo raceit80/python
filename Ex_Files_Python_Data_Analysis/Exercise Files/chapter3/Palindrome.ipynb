{
 "cells": [
  {
   "cell_type": "code",
   "execution_count": 38,
   "metadata": {},
   "outputs": [],
   "source": [
    "import math\n",
    "import collections\n",
    "import numpy as np"
   ]
  },
  {
   "cell_type": "code",
   "execution_count": 39,
   "metadata": {},
   "outputs": [],
   "source": [
    "words = sorted({line.strip().lower() for line in open('words.txt','r')})"
   ]
  },
  {
   "cell_type": "code",
   "execution_count": 52,
   "metadata": {},
   "outputs": [],
   "source": [
    "words_palindrome = []\n",
    "for word in words:\n",
    "        if word == word[::-1]:\n",
    "            words_palindrome.append(word)\n"
   ]
  },
  {
   "cell_type": "code",
   "execution_count": 46,
   "metadata": {},
   "outputs": [
    {
     "data": {
      "text/plain": [
       "['a',\n",
       " 'aa',\n",
       " 'aba',\n",
       " 'abba',\n",
       " 'acca',\n",
       " 'ada',\n",
       " 'adda',\n",
       " 'adinida',\n",
       " 'affa',\n",
       " 'aga',\n",
       " 'aha',\n",
       " 'ajaja',\n",
       " 'aka',\n",
       " 'akka',\n",
       " 'ala',\n",
       " 'alala',\n",
       " 'alula',\n",
       " 'ama',\n",
       " 'amma',\n",
       " 'ana',\n",
       " 'anana',\n",
       " 'anna',\n",
       " 'apa',\n",
       " 'ara',\n",
       " 'arara',\n",
       " 'asa',\n",
       " 'ata',\n",
       " 'atta',\n",
       " 'ava',\n",
       " 'awa',\n",
       " 'b',\n",
       " 'bab',\n",
       " 'bib',\n",
       " 'bob',\n",
       " 'boob',\n",
       " 'bub',\n",
       " 'c',\n",
       " 'civic',\n",
       " 'd',\n",
       " 'dad',\n",
       " 'deed',\n",
       " 'deedeed',\n",
       " 'degged',\n",
       " 'did',\n",
       " 'dod',\n",
       " 'dud',\n",
       " 'e',\n",
       " 'eke',\n",
       " 'elle',\n",
       " 'eme',\n",
       " 'ere',\n",
       " 'eve',\n",
       " 'ewe',\n",
       " 'eye',\n",
       " 'f',\n",
       " 'g',\n",
       " 'gag',\n",
       " 'gig',\n",
       " 'gog',\n",
       " 'h',\n",
       " 'hah',\n",
       " 'hallah',\n",
       " 'huh',\n",
       " 'i',\n",
       " 'ihi',\n",
       " 'imi',\n",
       " 'immi',\n",
       " 'j',\n",
       " 'k',\n",
       " 'kakkak',\n",
       " 'kassak',\n",
       " 'kayak',\n",
       " 'kazak',\n",
       " 'keek',\n",
       " 'kelek',\n",
       " 'l',\n",
       " 'lemel',\n",
       " 'level',\n",
       " 'm',\n",
       " 'maam',\n",
       " 'madam',\n",
       " 'malayalam',\n",
       " 'mam',\n",
       " 'mem',\n",
       " 'mesem',\n",
       " 'mim',\n",
       " 'minim',\n",
       " 'mum',\n",
       " 'murdrum',\n",
       " 'n',\n",
       " 'nan',\n",
       " 'non',\n",
       " 'noon',\n",
       " 'nun',\n",
       " 'o',\n",
       " 'ofo',\n",
       " 'oho',\n",
       " 'oto',\n",
       " 'otto',\n",
       " 'p',\n",
       " 'pap',\n",
       " 'peep',\n",
       " 'pep',\n",
       " 'pip',\n",
       " 'poop',\n",
       " 'pop',\n",
       " 'pup',\n",
       " 'q',\n",
       " 'r',\n",
       " 'radar',\n",
       " 'redder',\n",
       " 'refer',\n",
       " 'repaper',\n",
       " 'retter',\n",
       " 'rever',\n",
       " 'reviver',\n",
       " 'rotator',\n",
       " 'rotor',\n",
       " 's',\n",
       " 'samas',\n",
       " 'senones',\n",
       " 'seres',\n",
       " 'siris',\n",
       " 'sis',\n",
       " 'sooloos',\n",
       " 'sus',\n",
       " 't',\n",
       " 'tat',\n",
       " 'tebbet',\n",
       " 'tebet',\n",
       " 'teet',\n",
       " 'tenet',\n",
       " 'terret',\n",
       " 'tit',\n",
       " 'toot',\n",
       " 'tot',\n",
       " 'tst',\n",
       " 'tut',\n",
       " 'tyt',\n",
       " 'u',\n",
       " 'ulu',\n",
       " 'ululu',\n",
       " 'umu',\n",
       " 'uru',\n",
       " 'utu',\n",
       " 'v',\n",
       " 'w',\n",
       " 'waw',\n",
       " 'wow',\n",
       " 'x',\n",
       " 'y',\n",
       " 'yaray',\n",
       " 'yoy',\n",
       " 'z']"
      ]
     },
     "execution_count": 46,
     "metadata": {},
     "output_type": "execute_result"
    }
   ],
   "source": [
    "words_palindrome"
   ]
  },
  {
   "cell_type": "code",
   "execution_count": 50,
   "metadata": {},
   "outputs": [
    {
     "data": {
      "text/plain": [
       "'ivar'"
      ]
     },
     "execution_count": 50,
     "metadata": {},
     "output_type": "execute_result"
    }
   ],
   "source": [
    "'ravi'[::-1]"
   ]
  },
  {
   "cell_type": "code",
   "execution_count": 53,
   "metadata": {},
   "outputs": [],
   "source": [
    "import itertools\n"
   ]
  },
  {
   "cell_type": "code",
   "execution_count": 54,
   "metadata": {},
   "outputs": [
    {
     "data": {
      "text/plain": [
       "[(1, 2), (1, 3), (1, 4), (2, 3), (2, 4), (3, 4)]"
      ]
     },
     "execution_count": 54,
     "metadata": {},
     "output_type": "execute_result"
    }
   ],
   "source": [
    "list(itertools.combinations({1,2,3,4}, 2))"
   ]
  },
  {
   "cell_type": "code",
   "execution_count": null,
   "metadata": {},
   "outputs": [],
   "source": [
    "palindrome_pairs =[]\n",
    "\n",
    "for wordset"
   ]
  }
 ],
 "metadata": {
  "kernelspec": {
   "display_name": "Python 3",
   "language": "python",
   "name": "python3"
  },
  "language_info": {
   "codemirror_mode": {
    "name": "ipython",
    "version": 3
   },
   "file_extension": ".py",
   "mimetype": "text/x-python",
   "name": "python",
   "nbconvert_exporter": "python",
   "pygments_lexer": "ipython3",
   "version": "3.8.3"
  }
 },
 "nbformat": 4,
 "nbformat_minor": 4
}
